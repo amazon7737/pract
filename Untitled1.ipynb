{
  "nbformat": 4,
  "nbformat_minor": 0,
  "metadata": {
    "colab": {
      "name": "Untitled1.ipynb",
      "provenance": [],
      "collapsed_sections": []
    },
    "kernelspec": {
      "name": "python3",
      "display_name": "Python 3"
    },
    "language_info": {
      "name": "python"
    }
  },
  "cells": [
    {
      "cell_type": "code",
      "metadata": {
        "colab": {
          "base_uri": "https://localhost:8080/"
        },
        "id": "4MK7GSEEZ3sG",
        "outputId": "b1d618d0-01fa-4de1-c122-ac35520cd466"
      },
      "source": [
        "import numpy as np\n",
        "\n",
        "np.zeros((5), dtype=int)"
      ],
      "execution_count": 3,
      "outputs": [
        {
          "output_type": "execute_result",
          "data": {
            "text/plain": [
              "array([0, 0, 0, 0, 0])"
            ]
          },
          "metadata": {
            "tags": []
          },
          "execution_count": 3
        }
      ]
    },
    {
      "cell_type": "code",
      "metadata": {
        "colab": {
          "base_uri": "https://localhost:8080/"
        },
        "id": "RP5nHP_6a5-b",
        "outputId": "15f99f8c-bcb3-4796-a541-2ba995ce4289"
      },
      "source": [
        "s = (2, 2)\n",
        "np.zeros(s)"
      ],
      "execution_count": 4,
      "outputs": [
        {
          "output_type": "execute_result",
          "data": {
            "text/plain": [
              "array([[0., 0.],\n",
              "       [0., 0.]])"
            ]
          },
          "metadata": {
            "tags": []
          },
          "execution_count": 4
        }
      ]
    },
    {
      "cell_type": "code",
      "metadata": {
        "colab": {
          "base_uri": "https://localhost:8080/"
        },
        "id": "z9p_X97MbGL2",
        "outputId": "4f9bbc1d-d1a8-4164-ea71-835c1063fae8"
      },
      "source": [
        "np.zeros((2,), dtype=[('x', 'i4'), ('y', 'i4')])"
      ],
      "execution_count": 5,
      "outputs": [
        {
          "output_type": "execute_result",
          "data": {
            "text/plain": [
              "array([(0, 0), (0, 0)], dtype=[('x', '<i4'), ('y', '<i4')])"
            ]
          },
          "metadata": {
            "tags": []
          },
          "execution_count": 5
        }
      ]
    },
    {
      "cell_type": "code",
      "metadata": {
        "id": "01AV7fTNbWYa"
      },
      "source": [
        "import chess"
      ],
      "execution_count": 9,
      "outputs": []
    },
    {
      "cell_type": "code",
      "metadata": {
        "id": "lY7t_FW9cBub"
      },
      "source": [
        "class State(object):\n",
        "  def __init__(self, board=None):\n",
        "    if board is None:\n",
        "      self.board = chess.Board()\n",
        "    else:\n",
        "      self.board = board\n",
        "  \n",
        "  def key(self):\n",
        "    return(self.board.board_fen(), self.board.turn, self.board.castling_rights, self.board.ep_square)\n",
        "  \n",
        "  def serialize(self):\n",
        "    import numpy as np\n",
        "    assert self.board.is_valid()\n",
        "\n",
        "    bstate = np.zeros(64, np.uint8)\n",
        "    for i in range(64):\n",
        "      pp = self.board.piece_at(i)\n",
        "      if pp is not None:\n",
        "        #print(i, pp.symbol())\n",
        "        bstate[i] = {\"P\":1, \"N\":2, \"B\":3, \"R\":4, \"Q\":5, \"K\":6, \\\n",
        "                     \"p\":9, \"n\":10, \"b\":11, \"r\":12, \"q\":13, \"k\":14}[pp.symbol()]   \n",
        "    if self.board.has_queenside_castling_rights(chess.WHITE):\n",
        "      assert bstate[0] == 4\n",
        "      bstate[0] = 7\n",
        "    if self.board.has_kingside_castling_rights(chess.WHITE):\n",
        "      assert bstate[7] == 4\n",
        "      bstate[7] = 7\n",
        "    if self.board.has_queenside_castling_rights(chess.BLACK):\n",
        "      assert bstate[56] == 8+4\n",
        "      bstate[56] = 8+7\n",
        "    if self.board.has_kingside_castling_rights(chess.BLACK):\n",
        "      assert bstate[64] == 8+4\n",
        "      bstate[63] = 8+7\n",
        "    \n",
        "    if self.board.ep_square is not None:\n",
        "      assert bstate[self.board.ep_square] == 0\n",
        "      bstate[self.board.ep_square] = 8\n",
        "    bstate = bstate.reshape(8, 8)\n",
        "\n",
        "    # binary state\n",
        "    state = np.zeros((5, 8, 8), np.uint8)\n",
        "\n",
        "    # 0-3 columns to binary\n",
        "    state[0] = (bstate>>3)&1\n",
        "    state[1] = (bstate>>2)&1\n",
        "    state[2] = (bstate>>1)&1\n",
        "    state[3] = (bstate>>0)&1 ## 오른쪽 쉬프트 연산자는 0으로 들어갈 자리가 없으면 값이 소멸됨.\n",
        "  # &1 >> 홀수 자리일때 1을 발산하고 짝수일때 0을 발산하는 희안한걸 발견함.\n",
        "    # 4th column is who's turn it is\n",
        "    state[4] = (self.board.turn*1.0)\n",
        "    \n",
        "\n",
        "    # 257 bits accrding to readme\n",
        "    return state\n",
        "\n",
        "  def edges(self):\n",
        "    return list(self.board.legal_moves)\n",
        "\n",
        "if __name__ == \"__main__\":\n",
        "  s = State()\n",
        "\n",
        "\n"
      ],
      "execution_count": 133,
      "outputs": []
    },
    {
      "cell_type": "code",
      "metadata": {
        "colab": {
          "base_uri": "https://localhost:8080/"
        },
        "id": "VCuN5CHazKDe",
        "outputId": "5e2a3cd3-262f-45d8-859b-384bae4e5415"
      },
      "source": [
        "mat = np.zeros((8, 8), np.uint8)\n",
        "mat[0, 1] = 1\n",
        "mat"
      ],
      "execution_count": 119,
      "outputs": [
        {
          "output_type": "execute_result",
          "data": {
            "text/plain": [
              "array([[0, 1, 0, 0, 0, 0, 0, 0],\n",
              "       [0, 0, 0, 0, 0, 0, 0, 0],\n",
              "       [0, 0, 0, 0, 0, 0, 0, 0],\n",
              "       [0, 0, 0, 0, 0, 0, 0, 0],\n",
              "       [0, 0, 0, 0, 0, 0, 0, 0],\n",
              "       [0, 0, 0, 0, 0, 0, 0, 0],\n",
              "       [0, 0, 0, 0, 0, 0, 0, 0],\n",
              "       [0, 0, 0, 0, 0, 0, 0, 0]], dtype=uint8)"
            ]
          },
          "metadata": {
            "tags": []
          },
          "execution_count": 119
        }
      ]
    },
    {
      "cell_type": "code",
      "metadata": {
        "colab": {
          "base_uri": "https://localhost:8080/"
        },
        "id": "ghfUVVkLnNcG",
        "outputId": "6a1f683f-3b22-4364-c1fa-01845902cb96"
      },
      "source": [
        "state = np.zeros((5, 8, 8), np.uint8)\n",
        "bstate = np.zeros(64, np.uint8)\n",
        "bstate = bstate.reshape(8, 8)\n",
        "\n",
        "# 0-3 columns to binary\n",
        "def fucking(self):\n",
        "    \n",
        "  state[0] = (bstate>>3)&1\n",
        "  state[1] = (bstate>>2)&1\n",
        "  state[2] = (bstate>>1)&1\n",
        "  state[3] = (bstate>>0)&1\n",
        "  #state[4] = (self.board.turn*1.0)\n",
        "  state[4] =1\n",
        "  \n",
        "state[4]"
      ],
      "execution_count": 130,
      "outputs": [
        {
          "output_type": "execute_result",
          "data": {
            "text/plain": [
              "array([[0, 0, 0, 0, 0, 0, 0, 0],\n",
              "       [0, 0, 0, 0, 0, 0, 0, 0],\n",
              "       [0, 0, 0, 0, 0, 0, 0, 0],\n",
              "       [0, 0, 0, 0, 0, 0, 0, 0],\n",
              "       [0, 0, 0, 0, 0, 0, 0, 0],\n",
              "       [0, 0, 0, 0, 0, 0, 0, 0],\n",
              "       [0, 0, 0, 0, 0, 0, 0, 0],\n",
              "       [0, 0, 0, 0, 0, 0, 0, 0]], dtype=uint8)"
            ]
          },
          "metadata": {
            "tags": []
          },
          "execution_count": 130
        }
      ]
    },
    {
      "cell_type": "code",
      "metadata": {
        "colab": {
          "base_uri": "https://localhost:8080/"
        },
        "id": "sRrQMyB0oYHp",
        "outputId": "91c4deae-d2fe-4b95-a8c6-1f1dd04fbe58"
      },
      "source": [
        "print(state)"
      ],
      "execution_count": 17,
      "outputs": [
        {
          "output_type": "stream",
          "text": [
            "[[[0 0 0 0 0 0 0 0]\n",
            "  [0 0 0 0 0 0 0 0]\n",
            "  [0 0 0 0 0 0 0 0]\n",
            "  [0 0 0 0 0 0 0 0]\n",
            "  [0 0 0 0 0 0 0 0]\n",
            "  [0 0 0 0 0 0 0 0]\n",
            "  [0 0 0 0 0 0 0 0]\n",
            "  [0 0 0 0 0 0 0 0]]\n",
            "\n",
            " [[0 0 0 0 0 0 0 0]\n",
            "  [0 0 0 0 0 0 0 0]\n",
            "  [0 0 0 0 0 0 0 0]\n",
            "  [0 0 0 0 0 0 0 0]\n",
            "  [0 0 0 0 0 0 0 0]\n",
            "  [0 0 0 0 0 0 0 0]\n",
            "  [0 0 0 0 0 0 0 0]\n",
            "  [0 0 0 0 0 0 0 0]]\n",
            "\n",
            " [[0 0 0 0 0 0 0 0]\n",
            "  [0 0 0 0 0 0 0 0]\n",
            "  [0 0 0 0 0 0 0 0]\n",
            "  [0 0 0 0 0 0 0 0]\n",
            "  [0 0 0 0 0 0 0 0]\n",
            "  [0 0 0 0 0 0 0 0]\n",
            "  [0 0 0 0 0 0 0 0]\n",
            "  [0 0 0 0 0 0 0 0]]\n",
            "\n",
            " [[0 0 0 0 0 0 0 0]\n",
            "  [0 0 0 0 0 0 0 0]\n",
            "  [0 0 0 0 0 0 0 0]\n",
            "  [0 0 0 0 0 0 0 0]\n",
            "  [0 0 0 0 0 0 0 0]\n",
            "  [0 0 0 0 0 0 0 0]\n",
            "  [0 0 0 0 0 0 0 0]\n",
            "  [0 0 0 0 0 0 0 0]]\n",
            "\n",
            " [[0 0 0 0 0 0 0 0]\n",
            "  [0 0 0 0 0 0 0 0]\n",
            "  [0 0 0 0 0 0 0 0]\n",
            "  [0 0 0 0 0 0 0 0]\n",
            "  [0 0 0 0 0 0 0 0]\n",
            "  [0 0 0 0 0 0 0 0]\n",
            "  [0 0 0 0 0 0 0 0]\n",
            "  [0 0 0 0 0 0 0 0]]]\n"
          ],
          "name": "stdout"
        }
      ]
    },
    {
      "cell_type": "code",
      "metadata": {
        "colab": {
          "base_uri": "https://localhost:8080/"
        },
        "id": "9vt_CDdTuyel",
        "outputId": "87f4b858-7149-45ea-de6e-c81a77841c01"
      },
      "source": [
        ""
      ],
      "execution_count": 71,
      "outputs": [
        {
          "output_type": "execute_result",
          "data": {
            "text/plain": [
              "1"
            ]
          },
          "metadata": {
            "tags": []
          },
          "execution_count": 71
        }
      ]
    },
    {
      "cell_type": "code",
      "metadata": {
        "colab": {
          "base_uri": "https://localhost:8080/"
        },
        "id": "4irj393Wuzud",
        "outputId": "8101cea1-9121-4b30-d958-4769f515fdff"
      },
      "source": [
        ""
      ],
      "execution_count": 72,
      "outputs": [
        {
          "output_type": "execute_result",
          "data": {
            "text/plain": [
              "0"
            ]
          },
          "metadata": {
            "tags": []
          },
          "execution_count": 72
        }
      ]
    },
    {
      "cell_type": "code",
      "metadata": {
        "colab": {
          "base_uri": "https://localhost:8080/"
        },
        "id": "dU25dhJTu00l",
        "outputId": "a2a65eec-cdea-4fd2-b7e6-e520233c39a5"
      },
      "source": [
        ""
      ],
      "execution_count": 73,
      "outputs": [
        {
          "output_type": "execute_result",
          "data": {
            "text/plain": [
              "1"
            ]
          },
          "metadata": {
            "tags": []
          },
          "execution_count": 73
        }
      ]
    },
    {
      "cell_type": "code",
      "metadata": {
        "colab": {
          "base_uri": "https://localhost:8080/"
        },
        "id": "9HHhMPGeu1-F",
        "outputId": "e1d41353-643c-4fe7-a110-f80b7c27007e"
      },
      "source": [
        ""
      ],
      "execution_count": 74,
      "outputs": [
        {
          "output_type": "execute_result",
          "data": {
            "text/plain": [
              "0"
            ]
          },
          "metadata": {
            "tags": []
          },
          "execution_count": 74
        }
      ]
    },
    {
      "cell_type": "code",
      "metadata": {
        "colab": {
          "base_uri": "https://localhost:8080/"
        },
        "id": "FHT_2R8lu23N",
        "outputId": "5c3e6216-6da2-46f0-8533-2b65bd0235d7"
      },
      "source": [
        ""
      ],
      "execution_count": 75,
      "outputs": [
        {
          "output_type": "execute_result",
          "data": {
            "text/plain": [
              "1"
            ]
          },
          "metadata": {
            "tags": []
          },
          "execution_count": 75
        }
      ]
    },
    {
      "cell_type": "code",
      "metadata": {
        "id": "tFOK1B7qu7Wp"
      },
      "source": [
        ""
      ],
      "execution_count": null,
      "outputs": []
    }
  ]
}